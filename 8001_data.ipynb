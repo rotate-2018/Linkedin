{
 "cells": [
  {
   "cell_type": "code",
   "execution_count": 37,
   "id": "b1eff79a-f7f2-442c-bf7c-3e70a3315dea",
   "metadata": {},
   "outputs": [],
   "source": [
    "from linkedin_functions_t import *\n",
    "import itertools\n",
    "import pandas as pd"
   ]
  },
  {
   "cell_type": "code",
   "execution_count": 38,
   "id": "45844ee1-d785-4e93-93a3-474ac88c382d",
   "metadata": {},
   "outputs": [],
   "source": [
    "# location = ['Switzerland', 'Norway', 'Iceland', 'Hong Kong', 'Denmark', 'Sweden',\n",
    "#             'Germany', 'Ireland', 'Singapore', 'Australia']\n",
    "\n",
    "location = ['China', 'United States', 'United Kingdom', 'Singapore', 'Australia', 'Canada',\n",
    "            'France', 'India', 'Japan', 'Germany', 'Malaysia', 'Hong Kong', 'Philippines']\n",
    "\n",
    "schools_dict = {\"The University of Hong Kong\": ['The University of Hong Kong'],\n",
    "                \"The Chinese University of Hong Kong\": ['The Chinese University of Hong Kong'],\n",
    "                \"The Hong Kong University of Science and Technology\": ['The Hong Kong University of Science and Technology'],\n",
    "                \"The Hong Kong Polytechnic University\": ['The Hong Kong Polytechnic University'],\n",
    "                \"City University of Hong Kong\": ['City University of Hong Kong'],\n",
    "                \"National University of Singapore\": ['National University of Singapore'],\n",
    "                \"Nanyang Technological University Singapore\": ['Nanyang Technological University Singapore']}\n",
    "\n",
    "\n",
    "# degrees_dict = {\"Bachelor's Degree\": ['Bachelors degree'],\n",
    "#                 \"Master's Degree\": ['Masters degree'],\n",
    "#                 'Undergraduate & Postgraduate': ['Bachelors degree', 'Masters degree', 'PhD']}\n"
   ]
  },
  {
   "cell_type": "code",
   "execution_count": 39,
   "id": "001950fd-7270-47eb-9523-ee22c6ce1927",
   "metadata": {},
   "outputs": [],
   "source": [
    "location_dict = {loc:[encodeFacet([loc], kind='locations')] for loc in location}\n",
    "\n",
    "schools_dict = {k:[encodeFacet(schools, kind='schools')] for k, schools in schools_dict.items()}\n",
    "\n",
    "# degrees_dict = {k:[encodeFacet(degrees, kind='degrees')] for k, degrees in degrees_dict.items()}"
   ]
  },
  {
   "cell_type": "code",
   "execution_count": 41,
   "id": "6baa6688-b5d6-4d1a-88a3-4b9ad868deb2",
   "metadata": {},
   "outputs": [
    {
     "name": "stdout",
     "output_type": "stream",
     "text": [
      "[('China', 'The University of Hong Kong'), ('China', 'The Chinese University of Hong Kong'), ('China', 'The Hong Kong University of Science and Technology'), ('China', 'The Hong Kong Polytechnic University'), ('China', 'City University of Hong Kong'), ('China', 'National University of Singapore'), ('China', 'Nanyang Technological University Singapore'), ('United States', 'The University of Hong Kong'), ('United States', 'The Chinese University of Hong Kong'), ('United States', 'The Hong Kong University of Science and Technology'), ('United States', 'The Hong Kong Polytechnic University'), ('United States', 'City University of Hong Kong'), ('United States', 'National University of Singapore'), ('United States', 'Nanyang Technological University Singapore'), ('United Kingdom', 'The University of Hong Kong'), ('United Kingdom', 'The Chinese University of Hong Kong'), ('United Kingdom', 'The Hong Kong University of Science and Technology'), ('United Kingdom', 'The Hong Kong Polytechnic University'), ('United Kingdom', 'City University of Hong Kong'), ('United Kingdom', 'National University of Singapore'), ('United Kingdom', 'Nanyang Technological University Singapore'), ('Singapore', 'The University of Hong Kong'), ('Singapore', 'The Chinese University of Hong Kong'), ('Singapore', 'The Hong Kong University of Science and Technology'), ('Singapore', 'The Hong Kong Polytechnic University'), ('Singapore', 'City University of Hong Kong'), ('Singapore', 'National University of Singapore'), ('Singapore', 'Nanyang Technological University Singapore'), ('Australia', 'The University of Hong Kong'), ('Australia', 'The Chinese University of Hong Kong'), ('Australia', 'The Hong Kong University of Science and Technology'), ('Australia', 'The Hong Kong Polytechnic University'), ('Australia', 'City University of Hong Kong'), ('Australia', 'National University of Singapore'), ('Australia', 'Nanyang Technological University Singapore'), ('Canada', 'The University of Hong Kong'), ('Canada', 'The Chinese University of Hong Kong'), ('Canada', 'The Hong Kong University of Science and Technology'), ('Canada', 'The Hong Kong Polytechnic University'), ('Canada', 'City University of Hong Kong'), ('Canada', 'National University of Singapore'), ('Canada', 'Nanyang Technological University Singapore'), ('France', 'The University of Hong Kong'), ('France', 'The Chinese University of Hong Kong'), ('France', 'The Hong Kong University of Science and Technology'), ('France', 'The Hong Kong Polytechnic University'), ('France', 'City University of Hong Kong'), ('France', 'National University of Singapore'), ('France', 'Nanyang Technological University Singapore'), ('India', 'The University of Hong Kong'), ('India', 'The Chinese University of Hong Kong'), ('India', 'The Hong Kong University of Science and Technology'), ('India', 'The Hong Kong Polytechnic University'), ('India', 'City University of Hong Kong'), ('India', 'National University of Singapore'), ('India', 'Nanyang Technological University Singapore'), ('Japan', 'The University of Hong Kong'), ('Japan', 'The Chinese University of Hong Kong'), ('Japan', 'The Hong Kong University of Science and Technology'), ('Japan', 'The Hong Kong Polytechnic University'), ('Japan', 'City University of Hong Kong'), ('Japan', 'National University of Singapore'), ('Japan', 'Nanyang Technological University Singapore'), ('Germany', 'The University of Hong Kong'), ('Germany', 'The Chinese University of Hong Kong'), ('Germany', 'The Hong Kong University of Science and Technology'), ('Germany', 'The Hong Kong Polytechnic University'), ('Germany', 'City University of Hong Kong'), ('Germany', 'National University of Singapore'), ('Germany', 'Nanyang Technological University Singapore'), ('Malaysia', 'The University of Hong Kong'), ('Malaysia', 'The Chinese University of Hong Kong'), ('Malaysia', 'The Hong Kong University of Science and Technology'), ('Malaysia', 'The Hong Kong Polytechnic University'), ('Malaysia', 'City University of Hong Kong'), ('Malaysia', 'National University of Singapore'), ('Malaysia', 'Nanyang Technological University Singapore'), ('Hong Kong', 'The University of Hong Kong'), ('Hong Kong', 'The Chinese University of Hong Kong'), ('Hong Kong', 'The Hong Kong University of Science and Technology'), ('Hong Kong', 'The Hong Kong Polytechnic University'), ('Hong Kong', 'City University of Hong Kong'), ('Hong Kong', 'National University of Singapore'), ('Hong Kong', 'Nanyang Technological University Singapore'), ('Philippines', 'The University of Hong Kong'), ('Philippines', 'The Chinese University of Hong Kong'), ('Philippines', 'The Hong Kong University of Science and Technology'), ('Philippines', 'The Hong Kong Polytechnic University'), ('Philippines', 'City University of Hong Kong'), ('Philippines', 'National University of Singapore'), ('Philippines', 'Nanyang Technological University Singapore')]\n"
     ]
    }
   ],
   "source": [
    "# segments = list(itertools.product(*[location_dict, schools_dict, degrees_dict]))\n",
    "\n",
    "segments = list(itertools.product(*[location_dict, schools_dict]))\n",
    "\n",
    "print(segments)\n"
   ]
  },
  {
   "cell_type": "code",
   "execution_count": 42,
   "id": "1fc25dd5-d4a0-40d8-9dd9-80bd721d6a04",
   "metadata": {},
   "outputs": [
    {
     "name": "stdout",
     "output_type": "stream",
     "text": [
      "CPU times: total: 516 ms\n",
      "Wall time: 41.6 s\n"
     ]
    }
   ],
   "source": [
    "%%time\n",
    "columns = ['Country', \n",
    "           'School', \n",
    "           # 'Degree',\n",
    "           'Count']\n",
    "new_rows = []\n",
    "\n",
    "for segment in segments:\n",
    "    # unpack the tuple and get encodings\n",
    "    # location_name, school_name, degree_name = segment\n",
    "    location_name, school_name = segment\n",
    "    # location, school, degree = location_dict[location_name], schools_dict[school_name], degrees_dict[degree_name]\n",
    "    location, school = location_dict[location_name], schools_dict[school_name]\n",
    "    \n",
    "    # generate URL for request\n",
    "    requestCriteria = createRequestDataForAudienceCounts(locations = location,\n",
    "                                                         genders = [],\n",
    "                                                         schools = school)\n",
    "                                                         # degrees= degree)\n",
    "                                                        \n",
    "    \n",
    "    # submit GET request\n",
    "    count = getAudienceCounts(requestCriteria)\n",
    "    \n",
    "    # store data in a series (row)\n",
    "    new_row = pd.Series(dtype=object)\n",
    "    new_row['Country'] = location_name\n",
    "    new_row['School'] = school_name\n",
    "    # new_row['Degree'] = degree_name\n",
    "    new_row['Count'] = count\n",
    "    new_rows.append(new_row.values)\n",
    "    \n",
    "# construct dataframe\n",
    "df = pd.DataFrame(new_rows, columns=columns)"
   ]
  },
  {
   "cell_type": "code",
   "execution_count": 43,
   "id": "32779b23-9092-4a03-a92c-20e022110d3e",
   "metadata": {},
   "outputs": [
    {
     "data": {
      "text/html": [
       "<div>\n",
       "<style scoped>\n",
       "    .dataframe tbody tr th:only-of-type {\n",
       "        vertical-align: middle;\n",
       "    }\n",
       "\n",
       "    .dataframe tbody tr th {\n",
       "        vertical-align: top;\n",
       "    }\n",
       "\n",
       "    .dataframe thead th {\n",
       "        text-align: right;\n",
       "    }\n",
       "</style>\n",
       "<table border=\"1\" class=\"dataframe\">\n",
       "  <thead>\n",
       "    <tr style=\"text-align: right;\">\n",
       "      <th></th>\n",
       "      <th>Country</th>\n",
       "      <th>School</th>\n",
       "      <th>Count</th>\n",
       "    </tr>\n",
       "  </thead>\n",
       "  <tbody>\n",
       "    <tr>\n",
       "      <th>0</th>\n",
       "      <td>China</td>\n",
       "      <td>The University of Hong Kong</td>\n",
       "      <td>12000</td>\n",
       "    </tr>\n",
       "    <tr>\n",
       "      <th>1</th>\n",
       "      <td>China</td>\n",
       "      <td>The Chinese University of Hong Kong</td>\n",
       "      <td>7300</td>\n",
       "    </tr>\n",
       "    <tr>\n",
       "      <th>2</th>\n",
       "      <td>China</td>\n",
       "      <td>The Hong Kong University of Science and Techno...</td>\n",
       "      <td>4300</td>\n",
       "    </tr>\n",
       "    <tr>\n",
       "      <th>3</th>\n",
       "      <td>China</td>\n",
       "      <td>The Hong Kong Polytechnic University</td>\n",
       "      <td>5000</td>\n",
       "    </tr>\n",
       "    <tr>\n",
       "      <th>4</th>\n",
       "      <td>China</td>\n",
       "      <td>City University of Hong Kong</td>\n",
       "      <td>3900</td>\n",
       "    </tr>\n",
       "    <tr>\n",
       "      <th>...</th>\n",
       "      <td>...</td>\n",
       "      <td>...</td>\n",
       "      <td>...</td>\n",
       "    </tr>\n",
       "    <tr>\n",
       "      <th>86</th>\n",
       "      <td>Philippines</td>\n",
       "      <td>The Hong Kong University of Science and Techno...</td>\n",
       "      <td>510</td>\n",
       "    </tr>\n",
       "    <tr>\n",
       "      <th>87</th>\n",
       "      <td>Philippines</td>\n",
       "      <td>The Hong Kong Polytechnic University</td>\n",
       "      <td>0</td>\n",
       "    </tr>\n",
       "    <tr>\n",
       "      <th>88</th>\n",
       "      <td>Philippines</td>\n",
       "      <td>City University of Hong Kong</td>\n",
       "      <td>0</td>\n",
       "    </tr>\n",
       "    <tr>\n",
       "      <th>89</th>\n",
       "      <td>Philippines</td>\n",
       "      <td>National University of Singapore</td>\n",
       "      <td>1500</td>\n",
       "    </tr>\n",
       "    <tr>\n",
       "      <th>90</th>\n",
       "      <td>Philippines</td>\n",
       "      <td>Nanyang Technological University Singapore</td>\n",
       "      <td>410</td>\n",
       "    </tr>\n",
       "  </tbody>\n",
       "</table>\n",
       "<p>91 rows × 3 columns</p>\n",
       "</div>"
      ],
      "text/plain": [
       "        Country                                             School  Count\n",
       "0         China                        The University of Hong Kong  12000\n",
       "1         China                The Chinese University of Hong Kong   7300\n",
       "2         China  The Hong Kong University of Science and Techno...   4300\n",
       "3         China               The Hong Kong Polytechnic University   5000\n",
       "4         China                       City University of Hong Kong   3900\n",
       "..          ...                                                ...    ...\n",
       "86  Philippines  The Hong Kong University of Science and Techno...    510\n",
       "87  Philippines               The Hong Kong Polytechnic University      0\n",
       "88  Philippines                       City University of Hong Kong      0\n",
       "89  Philippines                   National University of Singapore   1500\n",
       "90  Philippines         Nanyang Technological University Singapore    410\n",
       "\n",
       "[91 rows x 3 columns]"
      ]
     },
     "execution_count": 43,
     "metadata": {},
     "output_type": "execute_result"
    }
   ],
   "source": [
    "df"
   ]
  },
  {
   "cell_type": "code",
   "execution_count": 44,
   "id": "918bc870-ccc0-42c9-a192-fffcd231e902",
   "metadata": {},
   "outputs": [],
   "source": [
    "df.to_excel('top10(no degree).xlsx', index=False)"
   ]
  }
 ],
 "metadata": {
  "kernelspec": {
   "display_name": "Python 3 (ipykernel)",
   "language": "python",
   "name": "python3"
  },
  "language_info": {
   "codemirror_mode": {
    "name": "ipython",
    "version": 3
   },
   "file_extension": ".py",
   "mimetype": "text/x-python",
   "name": "python",
   "nbconvert_exporter": "python",
   "pygments_lexer": "ipython3",
   "version": "3.12.3"
  }
 },
 "nbformat": 4,
 "nbformat_minor": 5
}
